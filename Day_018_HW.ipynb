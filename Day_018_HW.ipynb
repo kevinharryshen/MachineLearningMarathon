{
 "cells": [
  {
   "cell_type": "markdown",
   "metadata": {
    "collapsed": true
   },
   "source": [
    "# [作業目標]\n",
    "- 使用 Day 17 剛學到的方法, 對較完整的資料生成離散化特徵\n",
    "- 觀察上述離散化特徵, 對於目標值的預測有沒有幫助"
   ]
  },
  {
   "cell_type": "markdown",
   "metadata": {
    "collapsed": true
   },
   "source": [
    "# [作業重點]\n",
    "- 仿照 Day 17 的語法, 將年齡資料 ('DAYS_BIRTH' 除以 365) 離散化\n",
    "- 繪製上述的 \"離散化標籤\" 與目標值 ('TARGET') 的長條圖"
   ]
  },
  {
   "cell_type": "code",
   "execution_count": 1,
   "metadata": {},
   "outputs": [],
   "source": [
    "# 載入需要的套件\n",
    "import os\n",
    "import numpy as np\n",
    "import pandas as pd\n",
    "import matplotlib.pyplot as plt\n",
    "%matplotlib inline\n",
    "\n",
    "# 設定 data_path\n",
    "dir_data = './data/'"
   ]
  },
  {
   "cell_type": "markdown",
   "metadata": {},
   "source": [
    "### 之前做過的處理"
   ]
  },
  {
   "cell_type": "code",
   "execution_count": 2,
   "metadata": {},
   "outputs": [
    {
     "data": {
      "text/plain": [
       "(307511, 122)"
      ]
     },
     "execution_count": 2,
     "metadata": {},
     "output_type": "execute_result"
    }
   ],
   "source": [
    "# 讀取資料檔\n",
    "f_app_train = os.path.join(dir_data, 'application_train.csv')\n",
    "app_train = pd.read_csv(f_app_train)\n",
    "app_train.shape"
   ]
  },
  {
   "cell_type": "code",
   "execution_count": 3,
   "metadata": {},
   "outputs": [
    {
     "name": "stdout",
     "output_type": "stream",
     "text": [
      "(307511, 122)\n"
     ]
    },
    {
     "data": {
      "text/html": [
       "<div>\n",
       "<style scoped>\n",
       "    .dataframe tbody tr th:only-of-type {\n",
       "        vertical-align: middle;\n",
       "    }\n",
       "\n",
       "    .dataframe tbody tr th {\n",
       "        vertical-align: top;\n",
       "    }\n",
       "\n",
       "    .dataframe thead th {\n",
       "        text-align: right;\n",
       "    }\n",
       "</style>\n",
       "<table border=\"1\" class=\"dataframe\">\n",
       "  <thead>\n",
       "    <tr style=\"text-align: right;\">\n",
       "      <th></th>\n",
       "      <th>SK_ID_CURR</th>\n",
       "      <th>TARGET</th>\n",
       "      <th>NAME_CONTRACT_TYPE</th>\n",
       "      <th>CODE_GENDER</th>\n",
       "      <th>FLAG_OWN_CAR</th>\n",
       "      <th>FLAG_OWN_REALTY</th>\n",
       "      <th>CNT_CHILDREN</th>\n",
       "      <th>AMT_INCOME_TOTAL</th>\n",
       "      <th>AMT_CREDIT</th>\n",
       "      <th>AMT_ANNUITY</th>\n",
       "      <th>...</th>\n",
       "      <th>FLAG_DOCUMENT_18</th>\n",
       "      <th>FLAG_DOCUMENT_19</th>\n",
       "      <th>FLAG_DOCUMENT_20</th>\n",
       "      <th>FLAG_DOCUMENT_21</th>\n",
       "      <th>AMT_REQ_CREDIT_BUREAU_HOUR</th>\n",
       "      <th>AMT_REQ_CREDIT_BUREAU_DAY</th>\n",
       "      <th>AMT_REQ_CREDIT_BUREAU_WEEK</th>\n",
       "      <th>AMT_REQ_CREDIT_BUREAU_MON</th>\n",
       "      <th>AMT_REQ_CREDIT_BUREAU_QRT</th>\n",
       "      <th>AMT_REQ_CREDIT_BUREAU_YEAR</th>\n",
       "    </tr>\n",
       "  </thead>\n",
       "  <tbody>\n",
       "    <tr>\n",
       "      <td>0</td>\n",
       "      <td>100002</td>\n",
       "      <td>1</td>\n",
       "      <td>0</td>\n",
       "      <td>M</td>\n",
       "      <td>0</td>\n",
       "      <td>1</td>\n",
       "      <td>0</td>\n",
       "      <td>202500.0</td>\n",
       "      <td>406597.5</td>\n",
       "      <td>24700.5</td>\n",
       "      <td>...</td>\n",
       "      <td>0</td>\n",
       "      <td>0</td>\n",
       "      <td>0</td>\n",
       "      <td>0</td>\n",
       "      <td>0.0</td>\n",
       "      <td>0.0</td>\n",
       "      <td>0.0</td>\n",
       "      <td>0.0</td>\n",
       "      <td>0.0</td>\n",
       "      <td>1.0</td>\n",
       "    </tr>\n",
       "    <tr>\n",
       "      <td>1</td>\n",
       "      <td>100003</td>\n",
       "      <td>0</td>\n",
       "      <td>0</td>\n",
       "      <td>F</td>\n",
       "      <td>0</td>\n",
       "      <td>0</td>\n",
       "      <td>0</td>\n",
       "      <td>270000.0</td>\n",
       "      <td>1293502.5</td>\n",
       "      <td>35698.5</td>\n",
       "      <td>...</td>\n",
       "      <td>0</td>\n",
       "      <td>0</td>\n",
       "      <td>0</td>\n",
       "      <td>0</td>\n",
       "      <td>0.0</td>\n",
       "      <td>0.0</td>\n",
       "      <td>0.0</td>\n",
       "      <td>0.0</td>\n",
       "      <td>0.0</td>\n",
       "      <td>0.0</td>\n",
       "    </tr>\n",
       "    <tr>\n",
       "      <td>2</td>\n",
       "      <td>100004</td>\n",
       "      <td>0</td>\n",
       "      <td>1</td>\n",
       "      <td>M</td>\n",
       "      <td>1</td>\n",
       "      <td>1</td>\n",
       "      <td>0</td>\n",
       "      <td>67500.0</td>\n",
       "      <td>135000.0</td>\n",
       "      <td>6750.0</td>\n",
       "      <td>...</td>\n",
       "      <td>0</td>\n",
       "      <td>0</td>\n",
       "      <td>0</td>\n",
       "      <td>0</td>\n",
       "      <td>0.0</td>\n",
       "      <td>0.0</td>\n",
       "      <td>0.0</td>\n",
       "      <td>0.0</td>\n",
       "      <td>0.0</td>\n",
       "      <td>0.0</td>\n",
       "    </tr>\n",
       "    <tr>\n",
       "      <td>3</td>\n",
       "      <td>100006</td>\n",
       "      <td>0</td>\n",
       "      <td>0</td>\n",
       "      <td>F</td>\n",
       "      <td>0</td>\n",
       "      <td>1</td>\n",
       "      <td>0</td>\n",
       "      <td>135000.0</td>\n",
       "      <td>312682.5</td>\n",
       "      <td>29686.5</td>\n",
       "      <td>...</td>\n",
       "      <td>0</td>\n",
       "      <td>0</td>\n",
       "      <td>0</td>\n",
       "      <td>0</td>\n",
       "      <td>NaN</td>\n",
       "      <td>NaN</td>\n",
       "      <td>NaN</td>\n",
       "      <td>NaN</td>\n",
       "      <td>NaN</td>\n",
       "      <td>NaN</td>\n",
       "    </tr>\n",
       "    <tr>\n",
       "      <td>4</td>\n",
       "      <td>100007</td>\n",
       "      <td>0</td>\n",
       "      <td>0</td>\n",
       "      <td>M</td>\n",
       "      <td>0</td>\n",
       "      <td>1</td>\n",
       "      <td>0</td>\n",
       "      <td>121500.0</td>\n",
       "      <td>513000.0</td>\n",
       "      <td>21865.5</td>\n",
       "      <td>...</td>\n",
       "      <td>0</td>\n",
       "      <td>0</td>\n",
       "      <td>0</td>\n",
       "      <td>0</td>\n",
       "      <td>0.0</td>\n",
       "      <td>0.0</td>\n",
       "      <td>0.0</td>\n",
       "      <td>0.0</td>\n",
       "      <td>0.0</td>\n",
       "      <td>0.0</td>\n",
       "    </tr>\n",
       "  </tbody>\n",
       "</table>\n",
       "<p>5 rows × 122 columns</p>\n",
       "</div>"
      ],
      "text/plain": [
       "   SK_ID_CURR  TARGET  NAME_CONTRACT_TYPE CODE_GENDER  FLAG_OWN_CAR  \\\n",
       "0      100002       1                   0           M             0   \n",
       "1      100003       0                   0           F             0   \n",
       "2      100004       0                   1           M             1   \n",
       "3      100006       0                   0           F             0   \n",
       "4      100007       0                   0           M             0   \n",
       "\n",
       "   FLAG_OWN_REALTY  CNT_CHILDREN  AMT_INCOME_TOTAL  AMT_CREDIT  AMT_ANNUITY  \\\n",
       "0                1             0          202500.0    406597.5      24700.5   \n",
       "1                0             0          270000.0   1293502.5      35698.5   \n",
       "2                1             0           67500.0    135000.0       6750.0   \n",
       "3                1             0          135000.0    312682.5      29686.5   \n",
       "4                1             0          121500.0    513000.0      21865.5   \n",
       "\n",
       "   ...  FLAG_DOCUMENT_18 FLAG_DOCUMENT_19 FLAG_DOCUMENT_20 FLAG_DOCUMENT_21  \\\n",
       "0  ...                 0                0                0                0   \n",
       "1  ...                 0                0                0                0   \n",
       "2  ...                 0                0                0                0   \n",
       "3  ...                 0                0                0                0   \n",
       "4  ...                 0                0                0                0   \n",
       "\n",
       "  AMT_REQ_CREDIT_BUREAU_HOUR AMT_REQ_CREDIT_BUREAU_DAY  \\\n",
       "0                        0.0                       0.0   \n",
       "1                        0.0                       0.0   \n",
       "2                        0.0                       0.0   \n",
       "3                        NaN                       NaN   \n",
       "4                        0.0                       0.0   \n",
       "\n",
       "   AMT_REQ_CREDIT_BUREAU_WEEK  AMT_REQ_CREDIT_BUREAU_MON  \\\n",
       "0                         0.0                        0.0   \n",
       "1                         0.0                        0.0   \n",
       "2                         0.0                        0.0   \n",
       "3                         NaN                        NaN   \n",
       "4                         0.0                        0.0   \n",
       "\n",
       "   AMT_REQ_CREDIT_BUREAU_QRT  AMT_REQ_CREDIT_BUREAU_YEAR  \n",
       "0                        0.0                         1.0  \n",
       "1                        0.0                         0.0  \n",
       "2                        0.0                         0.0  \n",
       "3                        NaN                         NaN  \n",
       "4                        0.0                         0.0  \n",
       "\n",
       "[5 rows x 122 columns]"
      ]
     },
     "execution_count": 3,
     "metadata": {},
     "output_type": "execute_result"
    }
   ],
   "source": [
    "# 將只有兩種值的類別型欄位, 做 Label Encoder, 計算相關係數時讓這些欄位可以被包含在內\n",
    "from sklearn.preprocessing import LabelEncoder\n",
    "le = LabelEncoder()\n",
    "\n",
    "# 檢查每一個 column\n",
    "for col in app_train:\n",
    "    if app_train[col].dtype == 'object':\n",
    "        # 如果只有兩種值的類別型欄位\n",
    "        if len(list(app_train[col].unique())) <= 2:\n",
    "            # 就做 Label Encoder, 以加入相關係數檢查\n",
    "            app_train[col] = le.fit_transform(app_train[col])            \n",
    "print(app_train.shape)\n",
    "app_train.head()"
   ]
  },
  {
   "cell_type": "code",
   "execution_count": 4,
   "metadata": {},
   "outputs": [],
   "source": [
    "# 受雇日數為異常值的資料, 另外設一個欄位記錄, 並將異常的日數轉成空值 (np.nan)\n",
    "app_train['DAYS_EMPLOYED_ANOM'] = app_train[\"DAYS_EMPLOYED\"] == 365243\n",
    "app_train['DAYS_EMPLOYED'].replace({365243: np.nan}, inplace = True)\n",
    "\n",
    "# 出生日數 (DAYS_BIRTH) 取絕對值 \n",
    "app_train['DAYS_BIRTH'] = abs(app_train['DAYS_BIRTH'])"
   ]
  },
  {
   "cell_type": "markdown",
   "metadata": {},
   "source": [
    "## 練習時間\n",
    "參考 Day 17 範例程式，離散化你覺得有興趣的欄位，並嘗試找出有趣的訊息"
   ]
  },
  {
   "cell_type": "code",
   "execution_count": 5,
   "metadata": {},
   "outputs": [
    {
     "data": {
      "text/plain": [
       "Index(['SK_ID_CURR', 'TARGET', 'NAME_CONTRACT_TYPE', 'CODE_GENDER',\n",
       "       'FLAG_OWN_CAR', 'FLAG_OWN_REALTY', 'CNT_CHILDREN', 'AMT_INCOME_TOTAL',\n",
       "       'AMT_CREDIT', 'AMT_ANNUITY',\n",
       "       ...\n",
       "       'FLAG_DOCUMENT_19', 'FLAG_DOCUMENT_20', 'FLAG_DOCUMENT_21',\n",
       "       'AMT_REQ_CREDIT_BUREAU_HOUR', 'AMT_REQ_CREDIT_BUREAU_DAY',\n",
       "       'AMT_REQ_CREDIT_BUREAU_WEEK', 'AMT_REQ_CREDIT_BUREAU_MON',\n",
       "       'AMT_REQ_CREDIT_BUREAU_QRT', 'AMT_REQ_CREDIT_BUREAU_YEAR',\n",
       "       'DAYS_EMPLOYED_ANOM'],\n",
       "      dtype='object', length=123)"
      ]
     },
     "execution_count": 5,
     "metadata": {},
     "output_type": "execute_result"
    }
   ],
   "source": [
    "app_train.columns"
   ]
  },
  {
   "cell_type": "code",
   "execution_count": 10,
   "metadata": {},
   "outputs": [
    {
     "data": {
      "text/plain": [
       "37.668493    43\n",
       "36.934247    42\n",
       "49.994521    41\n",
       "27.452055    41\n",
       "28.197260    40\n",
       "             ..\n",
       "68.416438     1\n",
       "68.942466     1\n",
       "21.408219     1\n",
       "68.808219     1\n",
       "68.580822     1\n",
       "Name: DAYS_BIRTH, Length: 17460, dtype: int64"
      ]
     },
     "execution_count": 10,
     "metadata": {},
     "output_type": "execute_result"
    }
   ],
   "source": [
    "(app_train['DAYS_BIRTH']/365).value_counts()"
   ]
  },
  {
   "cell_type": "code",
   "execution_count": 12,
   "metadata": {},
   "outputs": [
    {
     "data": {
      "text/plain": [
       "0         26.0\n",
       "1         46.0\n",
       "2         52.0\n",
       "3         52.0\n",
       "4         55.0\n",
       "          ... \n",
       "307506    26.0\n",
       "307507    57.0\n",
       "307508    41.0\n",
       "307509    33.0\n",
       "307510    46.0\n",
       "Name: DAYS_BIRTH, Length: 307511, dtype: float64"
      ]
     },
     "execution_count": 12,
     "metadata": {},
     "output_type": "execute_result"
    }
   ],
   "source": [
    "(app_train['DAYS_BIRTH']/365).round(decimals=0)"
   ]
  },
  {
   "cell_type": "code",
   "execution_count": 14,
   "metadata": {},
   "outputs": [
    {
     "data": {
      "text/plain": [
       "39.0    9023\n",
       "38.0    8793\n",
       "37.0    8727\n",
       "40.0    8602\n",
       "41.0    8495\n",
       "28.0    8467\n",
       "32.0    8313\n",
       "42.0    8308\n",
       "43.0    8265\n",
       "36.0    8152\n",
       "44.0    8132\n",
       "31.0    8021\n",
       "30.0    7776\n",
       "35.0    7751\n",
       "33.0    7729\n",
       "34.0    7659\n",
       "29.0    7636\n",
       "54.0    7489\n",
       "45.0    7385\n",
       "46.0    7333\n",
       "47.0    7202\n",
       "55.0    7140\n",
       "53.0    7124\n",
       "57.0    6926\n",
       "48.0    6907\n",
       "49.0    6786\n",
       "52.0    6740\n",
       "50.0    6696\n",
       "56.0    6657\n",
       "60.0    6612\n",
       "59.0    6479\n",
       "51.0    6417\n",
       "27.0    6413\n",
       "58.0    6371\n",
       "61.0    5795\n",
       "63.0    5467\n",
       "62.0    5362\n",
       "64.0    5023\n",
       "26.0    4364\n",
       "65.0    4318\n",
       "25.0    4079\n",
       "24.0    3815\n",
       "23.0    3669\n",
       "66.0    2641\n",
       "22.0    1990\n",
       "67.0    1834\n",
       "68.0    1654\n",
       "21.0     660\n",
       "69.0     314\n",
       "Name: AGES, dtype: int64"
      ]
     },
     "execution_count": 14,
     "metadata": {},
     "output_type": "execute_result"
    }
   ],
   "source": [
    "app_train['AGES'] = (app_train['DAYS_BIRTH']/365).round(decimals=0)\n",
    "app_train['AGES'].value_counts()"
   ]
  },
  {
   "cell_type": "code",
   "execution_count": 15,
   "metadata": {},
   "outputs": [
    {
     "name": "stdout",
     "output_type": "stream",
     "text": [
      "Most Positive Correlations:\n",
      " DEF_60_CNT_SOCIAL_CIRCLE       0.031276\n",
      "DEF_30_CNT_SOCIAL_CIRCLE       0.032248\n",
      "LIVE_CITY_NOT_WORK_CITY        0.032518\n",
      "OWN_CAR_AGE                    0.037612\n",
      "DAYS_REGISTRATION              0.041975\n",
      "FLAG_DOCUMENT_3                0.044346\n",
      "REG_CITY_NOT_LIVE_CITY         0.044395\n",
      "FLAG_EMP_PHONE                 0.045982\n",
      "REG_CITY_NOT_WORK_CITY         0.050994\n",
      "DAYS_ID_PUBLISH                0.051457\n",
      "DAYS_LAST_PHONE_CHANGE         0.055218\n",
      "REGION_RATING_CLIENT           0.058899\n",
      "REGION_RATING_CLIENT_W_CITY    0.060893\n",
      "DAYS_EMPLOYED                  0.074958\n",
      "TARGET                         1.000000\n",
      "Name: TARGET, dtype: float64\n",
      "\n",
      "Most Negative Correlations:\n",
      " EXT_SOURCE_3                 -0.178919\n",
      "EXT_SOURCE_2                 -0.160472\n",
      "EXT_SOURCE_1                 -0.155317\n",
      "AGES                         -0.078263\n",
      "DAYS_BIRTH                   -0.078239\n",
      "DAYS_EMPLOYED_ANOM           -0.045987\n",
      "FLOORSMAX_AVG                -0.044003\n",
      "FLOORSMAX_MEDI               -0.043768\n",
      "FLOORSMAX_MODE               -0.043226\n",
      "AMT_GOODS_PRICE              -0.039645\n",
      "REGION_POPULATION_RELATIVE   -0.037227\n",
      "ELEVATORS_AVG                -0.034199\n",
      "ELEVATORS_MEDI               -0.033863\n",
      "FLOORSMIN_AVG                -0.033614\n",
      "FLOORSMIN_MEDI               -0.033394\n",
      "Name: TARGET, dtype: float64\n"
     ]
    }
   ],
   "source": [
    "correlations = app_train.corr()['TARGET'].sort_values()\n",
    "\n",
    "# 顯示相關係數最大 / 最小的各15個欄位名稱\n",
    "print('Most Positive Correlations:\\n', correlations.tail(15))\n",
    "print('\\nMost Negative Correlations:\\n', correlations.head(15))"
   ]
  },
  {
   "cell_type": "code",
   "execution_count": 16,
   "metadata": {},
   "outputs": [
    {
     "data": {
      "text/plain": [
       "(33.0, 45.0]      99292\n",
       "(45.0, 57.0]      83417\n",
       "(20.952, 33.0]    72932\n",
       "(57.0, 69.0]      51870\n",
       "Name: EQUAL_WIDTH_AGE, dtype: int64"
      ]
     },
     "execution_count": 16,
     "metadata": {},
     "output_type": "execute_result"
    }
   ],
   "source": [
    "# 新增欄位 \"equal_width_age\", 對年齡做等寬劃分\n",
    "app_train[\"EQUAL_WIDTH_AGE\"] = pd.cut(app_train[\"AGES\"], 4)\n",
    "app_train[\"EQUAL_WIDTH_AGE\"].value_counts()"
   ]
  },
  {
   "cell_type": "code",
   "execution_count": 18,
   "metadata": {},
   "outputs": [
    {
     "data": {
      "text/plain": [
       "(20.999, 34.0]    80591\n",
       "(43.0, 54.0]      78211\n",
       "(34.0, 43.0]      76116\n",
       "(54.0, 69.0]      72593\n",
       "Name: EQUAL_FREQ_AGE, dtype: int64"
      ]
     },
     "execution_count": 18,
     "metadata": {},
     "output_type": "execute_result"
    }
   ],
   "source": [
    "app_train[\"EQUAL_FREQ_AGE\"] = pd.qcut(app_train[\"AGES\"], 4)\n",
    "app_train[\"EQUAL_FREQ_AGE\"].value_counts()"
   ]
  },
  {
   "cell_type": "code",
   "execution_count": 20,
   "metadata": {},
   "outputs": [],
   "source": [
    "app_train[\"CUSTOMIZE_AGE_GRP\"] = pd.cut(app_train[\"AGES\"], [20, 30, 40, 50, 60, 100])"
   ]
  },
  {
   "cell_type": "code",
   "execution_count": 21,
   "metadata": {},
   "outputs": [
    {
     "data": {
      "text/plain": [
       "(30, 40]     82770\n",
       "(40, 50]     75509\n",
       "(50, 60]     67955\n",
       "(20, 30]     48869\n",
       "(60, 100]    32408\n",
       "Name: CUSTOMIZE_AGE_GRP, dtype: int64"
      ]
     },
     "execution_count": 21,
     "metadata": {},
     "output_type": "execute_result"
    }
   ],
   "source": [
    "app_train[\"CUSTOMIZE_AGE_GRP\"].value_counts()"
   ]
  },
  {
   "cell_type": "code",
   "execution_count": 24,
   "metadata": {},
   "outputs": [
    {
     "data": {
      "text/html": [
       "<div>\n",
       "<style scoped>\n",
       "    .dataframe tbody tr th:only-of-type {\n",
       "        vertical-align: middle;\n",
       "    }\n",
       "\n",
       "    .dataframe tbody tr th {\n",
       "        vertical-align: top;\n",
       "    }\n",
       "\n",
       "    .dataframe thead th {\n",
       "        text-align: right;\n",
       "    }\n",
       "</style>\n",
       "<table border=\"1\" class=\"dataframe\">\n",
       "  <thead>\n",
       "    <tr style=\"text-align: right;\">\n",
       "      <th></th>\n",
       "      <th>SK_ID_CURR</th>\n",
       "      <th>TARGET</th>\n",
       "      <th>NAME_CONTRACT_TYPE</th>\n",
       "      <th>FLAG_OWN_CAR</th>\n",
       "      <th>FLAG_OWN_REALTY</th>\n",
       "      <th>CNT_CHILDREN</th>\n",
       "      <th>AMT_INCOME_TOTAL</th>\n",
       "      <th>AMT_CREDIT</th>\n",
       "      <th>AMT_ANNUITY</th>\n",
       "      <th>AMT_GOODS_PRICE</th>\n",
       "      <th>...</th>\n",
       "      <th>FLAG_DOCUMENT_20</th>\n",
       "      <th>FLAG_DOCUMENT_21</th>\n",
       "      <th>AMT_REQ_CREDIT_BUREAU_HOUR</th>\n",
       "      <th>AMT_REQ_CREDIT_BUREAU_DAY</th>\n",
       "      <th>AMT_REQ_CREDIT_BUREAU_WEEK</th>\n",
       "      <th>AMT_REQ_CREDIT_BUREAU_MON</th>\n",
       "      <th>AMT_REQ_CREDIT_BUREAU_QRT</th>\n",
       "      <th>AMT_REQ_CREDIT_BUREAU_YEAR</th>\n",
       "      <th>DAYS_EMPLOYED_ANOM</th>\n",
       "      <th>AGES</th>\n",
       "    </tr>\n",
       "    <tr>\n",
       "      <th>CUSTOMIZE_AGE_GRP</th>\n",
       "      <th></th>\n",
       "      <th></th>\n",
       "      <th></th>\n",
       "      <th></th>\n",
       "      <th></th>\n",
       "      <th></th>\n",
       "      <th></th>\n",
       "      <th></th>\n",
       "      <th></th>\n",
       "      <th></th>\n",
       "      <th></th>\n",
       "      <th></th>\n",
       "      <th></th>\n",
       "      <th></th>\n",
       "      <th></th>\n",
       "      <th></th>\n",
       "      <th></th>\n",
       "      <th></th>\n",
       "      <th></th>\n",
       "      <th></th>\n",
       "      <th></th>\n",
       "    </tr>\n",
       "  </thead>\n",
       "  <tbody>\n",
       "    <tr>\n",
       "      <td>(20, 30]</td>\n",
       "      <td>277539.377376</td>\n",
       "      <td>0.114449</td>\n",
       "      <td>0.144202</td>\n",
       "      <td>0.368823</td>\n",
       "      <td>0.610366</td>\n",
       "      <td>0.464794</td>\n",
       "      <td>160446.651771</td>\n",
       "      <td>486690.988172</td>\n",
       "      <td>24899.844585</td>\n",
       "      <td>438606.606266</td>\n",
       "      <td>...</td>\n",
       "      <td>0.000757</td>\n",
       "      <td>0.001842</td>\n",
       "      <td>0.007683</td>\n",
       "      <td>0.007607</td>\n",
       "      <td>0.033812</td>\n",
       "      <td>0.216506</td>\n",
       "      <td>0.259579</td>\n",
       "      <td>1.733069</td>\n",
       "      <td>0.003192</td>\n",
       "      <td>26.887741</td>\n",
       "    </tr>\n",
       "    <tr>\n",
       "      <td>(30, 40]</td>\n",
       "      <td>278195.214148</td>\n",
       "      <td>0.094346</td>\n",
       "      <td>0.097257</td>\n",
       "      <td>0.406850</td>\n",
       "      <td>0.649100</td>\n",
       "      <td>0.831702</td>\n",
       "      <td>179223.568156</td>\n",
       "      <td>604963.533055</td>\n",
       "      <td>27921.331871</td>\n",
       "      <td>543893.587539</td>\n",
       "      <td>...</td>\n",
       "      <td>0.000580</td>\n",
       "      <td>0.000109</td>\n",
       "      <td>0.006131</td>\n",
       "      <td>0.007327</td>\n",
       "      <td>0.034298</td>\n",
       "      <td>0.282140</td>\n",
       "      <td>0.259087</td>\n",
       "      <td>1.811338</td>\n",
       "      <td>0.006379</td>\n",
       "      <td>35.615525</td>\n",
       "    </tr>\n",
       "    <tr>\n",
       "      <td>(40, 50]</td>\n",
       "      <td>278334.021282</td>\n",
       "      <td>0.075819</td>\n",
       "      <td>0.092214</td>\n",
       "      <td>0.373598</td>\n",
       "      <td>0.717623</td>\n",
       "      <td>0.419301</td>\n",
       "      <td>180522.638867</td>\n",
       "      <td>659248.374710</td>\n",
       "      <td>28869.708013</td>\n",
       "      <td>591050.399968</td>\n",
       "      <td>...</td>\n",
       "      <td>0.000636</td>\n",
       "      <td>0.000040</td>\n",
       "      <td>0.006515</td>\n",
       "      <td>0.006230</td>\n",
       "      <td>0.033751</td>\n",
       "      <td>0.301082</td>\n",
       "      <td>0.258724</td>\n",
       "      <td>1.883173</td>\n",
       "      <td>0.026619</td>\n",
       "      <td>45.258459</td>\n",
       "    </tr>\n",
       "    <tr>\n",
       "      <td>(50, 60]</td>\n",
       "      <td>278755.450548</td>\n",
       "      <td>0.060363</td>\n",
       "      <td>0.080156</td>\n",
       "      <td>0.276713</td>\n",
       "      <td>0.745994</td>\n",
       "      <td>0.067692</td>\n",
       "      <td>163957.959524</td>\n",
       "      <td>645129.271172</td>\n",
       "      <td>27445.577281</td>\n",
       "      <td>580231.743275</td>\n",
       "      <td>...</td>\n",
       "      <td>0.000309</td>\n",
       "      <td>0.000015</td>\n",
       "      <td>0.005973</td>\n",
       "      <td>0.007133</td>\n",
       "      <td>0.035398</td>\n",
       "      <td>0.280410</td>\n",
       "      <td>0.271409</td>\n",
       "      <td>2.001548</td>\n",
       "      <td>0.374483</td>\n",
       "      <td>55.455787</td>\n",
       "    </tr>\n",
       "    <tr>\n",
       "      <td>(60, 100]</td>\n",
       "      <td>277546.577543</td>\n",
       "      <td>0.049247</td>\n",
       "      <td>0.054678</td>\n",
       "      <td>0.181252</td>\n",
       "      <td>0.767619</td>\n",
       "      <td>0.013361</td>\n",
       "      <td>137594.659391</td>\n",
       "      <td>516267.758424</td>\n",
       "      <td>23553.507514</td>\n",
       "      <td>464296.731710</td>\n",
       "      <td>...</td>\n",
       "      <td>0.000062</td>\n",
       "      <td>0.000000</td>\n",
       "      <td>0.005954</td>\n",
       "      <td>0.006846</td>\n",
       "      <td>0.034549</td>\n",
       "      <td>0.193069</td>\n",
       "      <td>0.293721</td>\n",
       "      <td>2.188327</td>\n",
       "      <td>0.840286</td>\n",
       "      <td>63.682548</td>\n",
       "    </tr>\n",
       "  </tbody>\n",
       "</table>\n",
       "<p>5 rows × 111 columns</p>\n",
       "</div>"
      ],
      "text/plain": [
       "                      SK_ID_CURR    TARGET  NAME_CONTRACT_TYPE  FLAG_OWN_CAR  \\\n",
       "CUSTOMIZE_AGE_GRP                                                              \n",
       "(20, 30]           277539.377376  0.114449            0.144202      0.368823   \n",
       "(30, 40]           278195.214148  0.094346            0.097257      0.406850   \n",
       "(40, 50]           278334.021282  0.075819            0.092214      0.373598   \n",
       "(50, 60]           278755.450548  0.060363            0.080156      0.276713   \n",
       "(60, 100]          277546.577543  0.049247            0.054678      0.181252   \n",
       "\n",
       "                   FLAG_OWN_REALTY  CNT_CHILDREN  AMT_INCOME_TOTAL  \\\n",
       "CUSTOMIZE_AGE_GRP                                                    \n",
       "(20, 30]                  0.610366      0.464794     160446.651771   \n",
       "(30, 40]                  0.649100      0.831702     179223.568156   \n",
       "(40, 50]                  0.717623      0.419301     180522.638867   \n",
       "(50, 60]                  0.745994      0.067692     163957.959524   \n",
       "(60, 100]                 0.767619      0.013361     137594.659391   \n",
       "\n",
       "                      AMT_CREDIT   AMT_ANNUITY  AMT_GOODS_PRICE  ...  \\\n",
       "CUSTOMIZE_AGE_GRP                                                ...   \n",
       "(20, 30]           486690.988172  24899.844585    438606.606266  ...   \n",
       "(30, 40]           604963.533055  27921.331871    543893.587539  ...   \n",
       "(40, 50]           659248.374710  28869.708013    591050.399968  ...   \n",
       "(50, 60]           645129.271172  27445.577281    580231.743275  ...   \n",
       "(60, 100]          516267.758424  23553.507514    464296.731710  ...   \n",
       "\n",
       "                   FLAG_DOCUMENT_20  FLAG_DOCUMENT_21  \\\n",
       "CUSTOMIZE_AGE_GRP                                       \n",
       "(20, 30]                   0.000757          0.001842   \n",
       "(30, 40]                   0.000580          0.000109   \n",
       "(40, 50]                   0.000636          0.000040   \n",
       "(50, 60]                   0.000309          0.000015   \n",
       "(60, 100]                  0.000062          0.000000   \n",
       "\n",
       "                   AMT_REQ_CREDIT_BUREAU_HOUR  AMT_REQ_CREDIT_BUREAU_DAY  \\\n",
       "CUSTOMIZE_AGE_GRP                                                          \n",
       "(20, 30]                             0.007683                   0.007607   \n",
       "(30, 40]                             0.006131                   0.007327   \n",
       "(40, 50]                             0.006515                   0.006230   \n",
       "(50, 60]                             0.005973                   0.007133   \n",
       "(60, 100]                            0.005954                   0.006846   \n",
       "\n",
       "                   AMT_REQ_CREDIT_BUREAU_WEEK  AMT_REQ_CREDIT_BUREAU_MON  \\\n",
       "CUSTOMIZE_AGE_GRP                                                          \n",
       "(20, 30]                             0.033812                   0.216506   \n",
       "(30, 40]                             0.034298                   0.282140   \n",
       "(40, 50]                             0.033751                   0.301082   \n",
       "(50, 60]                             0.035398                   0.280410   \n",
       "(60, 100]                            0.034549                   0.193069   \n",
       "\n",
       "                   AMT_REQ_CREDIT_BUREAU_QRT  AMT_REQ_CREDIT_BUREAU_YEAR  \\\n",
       "CUSTOMIZE_AGE_GRP                                                          \n",
       "(20, 30]                            0.259579                    1.733069   \n",
       "(30, 40]                            0.259087                    1.811338   \n",
       "(40, 50]                            0.258724                    1.883173   \n",
       "(50, 60]                            0.271409                    2.001548   \n",
       "(60, 100]                           0.293721                    2.188327   \n",
       "\n",
       "                   DAYS_EMPLOYED_ANOM       AGES  \n",
       "CUSTOMIZE_AGE_GRP                                 \n",
       "(20, 30]                     0.003192  26.887741  \n",
       "(30, 40]                     0.006379  35.615525  \n",
       "(40, 50]                     0.026619  45.258459  \n",
       "(50, 60]                     0.374483  55.455787  \n",
       "(60, 100]                    0.840286  63.682548  \n",
       "\n",
       "[5 rows x 111 columns]"
      ]
     },
     "execution_count": 24,
     "metadata": {},
     "output_type": "execute_result"
    }
   ],
   "source": [
    "age_groups  = app_train.groupby('CUSTOMIZE_AGE_GRP').mean()\n",
    "age_groups"
   ]
  },
  {
   "cell_type": "code",
   "execution_count": 25,
   "metadata": {},
   "outputs": [
    {
     "data": {
      "text/plain": [
       "CUSTOMIZE_AGE_GRP\n",
       "(20, 30]     0.114449\n",
       "(30, 40]     0.094346\n",
       "(40, 50]     0.075819\n",
       "(50, 60]     0.060363\n",
       "(60, 100]    0.049247\n",
       "Name: TARGET, dtype: float64"
      ]
     },
     "execution_count": 25,
     "metadata": {},
     "output_type": "execute_result"
    }
   ],
   "source": [
    "age_groups['TARGET']"
   ]
  },
  {
   "cell_type": "code",
   "execution_count": 28,
   "metadata": {},
   "outputs": [
    {
     "data": {
      "image/png": "[encoded data removed]",
      "text/plain": [
       "<Figure size 576x576 with 1 Axes>"
      ]
     },
     "metadata": {
      "needs_background": "light"
     },
     "output_type": "display_data"
    }
   ],
   "source": [
    "import matplotlib.pyplot as plt\n",
    "import seaborn as sns # 另一個繪圖-樣式套件\n",
    "\n",
    "plt.figure(figsize = (8, 8))\n",
    "\n",
    "# 以年齡區間為 x, target 為 y 繪製 barplot\n",
    "\"\"\"\n",
    "Your Code Here\n",
    "\"\"\"\n",
    "px = age_groups.index.astype(str)\n",
    "py = 100 * age_groups['TARGET']\n",
    "sns.barplot(px, py)\n",
    "\n",
    "# Plot labeling\n",
    "plt.xticks(rotation = 75); plt.xlabel('Age Group (years)'); plt.ylabel('Failure to Repay (%)')\n",
    "plt.title('Failure to Repay by Age Group');"
   ]
  },
  {
   "cell_type": "code",
   "execution_count": 29,
   "metadata": {},
   "outputs": [
    {
     "data": {
      "image/png": "[encoded data removed]",
      "text/plain": [
       "<Figure size 576x576 with 1 Axes>"
      ]
     },
     "metadata": {
      "needs_background": "light"
     },
     "output_type": "display_data"
    }
   ],
   "source": [
    "age_groups_2  = app_train.groupby('EQUAL_FREQ_AGE').mean()\n",
    "\n",
    "plt.figure(figsize = (8, 8))\n",
    "\n",
    "# 以年齡區間為 x, target 為 y 繪製 barplot\n",
    "\"\"\"\n",
    "Your Code Here\n",
    "\"\"\"\n",
    "px = age_groups_2.index.astype(str)\n",
    "py = 100 * age_groups_2['TARGET']\n",
    "sns.barplot(px, py)\n",
    "\n",
    "# Plot labeling\n",
    "plt.xticks(rotation = 75); plt.xlabel('Age Group (years)'); plt.ylabel('Failure to Repay (%)')\n",
    "plt.title('Failure to Repay by Age Group');"
   ]
  },
  {
   "cell_type": "code",
   "execution_count": 30,
   "metadata": {},
   "outputs": [
    {
     "data": {
      "image/png": "[encoded data removed]",
      "text/plain": [
       "<Figure size 576x576 with 1 Axes>"
      ]
     },
     "metadata": {
      "needs_background": "light"
     },
     "output_type": "display_data"
    }
   ],
   "source": [
    "\n",
    "age_groups_3  = app_train.groupby('EQUAL_WIDTH_AGE').mean()\n",
    "\n",
    "plt.figure(figsize = (8, 8))\n",
    "\n",
    "# 以年齡區間為 x, target 為 y 繪製 barplot\n",
    "\"\"\"\n",
    "Your Code Here\n",
    "\"\"\"\n",
    "px = age_groups_3.index.astype(str)\n",
    "py = 100 * age_groups_3['TARGET']\n",
    "sns.barplot(px, py)\n",
    "\n",
    "# Plot labeling\n",
    "plt.xticks(rotation = 75); plt.xlabel('Age Group (years)'); plt.ylabel('Failure to Repay (%)')\n",
    "plt.title('Failure to Repay by Age Group');"
   ]
  },
  {
   "cell_type": "code",
   "execution_count": null,
   "metadata": {},
   "outputs": [],
   "source": []
  }
 ],
 "metadata": {
  "kernelspec": {
   "display_name": "Python 3",
   "language": "python",
   "name": "python3"
  },
  "language_info": {
   "codemirror_mode": {
    "name": "ipython",
    "version": 3
   },
   "file_extension": ".py",
   "mimetype": "text/x-python",
   "name": "python",
   "nbconvert_exporter": "python",
   "pygments_lexer": "ipython3",
   "version": "3.7.4"
  }
 },
 "nbformat": 4,
 "nbformat_minor": 2
}
